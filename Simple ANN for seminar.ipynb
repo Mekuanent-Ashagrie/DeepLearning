{
 "cells": [
  {
   "cell_type": "code",
   "execution_count": 21,
   "metadata": {},
   "outputs": [],
   "source": [
    "#Simple neural network with one node and weight \n",
    "\n",
    "#We need this neural network to approximate our data to a function simillar to [Y = 2x]\n",
    "\n",
    "#Keras adds a bias node by itself "
   ]
  },
  {
   "cell_type": "code",
   "execution_count": 22,
   "metadata": {},
   "outputs": [],
   "source": [
    "#importing the required libraries \n",
    "import keras \n",
    "from keras.models import Model\n",
    "from keras.layers import Dense \n",
    "import numpy as np"
   ]
  },
  {
   "cell_type": "code",
   "execution_count": 23,
   "metadata": {},
   "outputs": [],
   "source": [
    "#prepare your data \n",
    "X = np.array([1,2,3,4,5])\n",
    "Y = np.array([1.9, 4, 6.3, 7.8, 10])"
   ]
  },
  {
   "cell_type": "code",
   "execution_count": 24,
   "metadata": {},
   "outputs": [],
   "source": [
    "#create and compile the neural net \n",
    "model = keras.models.Sequential()\n",
    "model.add(Dense(1, input_shape = (1,)))"
   ]
  },
  {
   "cell_type": "code",
   "execution_count": 25,
   "metadata": {},
   "outputs": [],
   "source": [
    "#compile the model with min squared error loss function and adaptive learning rate \n",
    "model.compile(loss = 'mse', optimizer = 'adam')"
   ]
  },
  {
   "cell_type": "code",
   "execution_count": 26,
   "metadata": {},
   "outputs": [
    {
     "name": "stdout",
     "output_type": "stream",
     "text": [
      "Model: \"sequential_3\"\n",
      "_________________________________________________________________\n",
      "Layer (type)                 Output Shape              Param #   \n",
      "=================================================================\n",
      "dense_3 (Dense)              (None, 1)                 2         \n",
      "=================================================================\n",
      "Total params: 2\n",
      "Trainable params: 2\n",
      "Non-trainable params: 0\n",
      "_________________________________________________________________\n"
     ]
    }
   ],
   "source": [
    "#see model structure \n",
    "model.summary()"
   ]
  },
  {
   "cell_type": "code",
   "execution_count": 27,
   "metadata": {},
   "outputs": [
    {
     "data": {
      "text/plain": [
       "[array([[1.441717]], dtype=float32), array([0.], dtype=float32)]"
      ]
     },
     "execution_count": 27,
     "metadata": {},
     "output_type": "execute_result"
    }
   ],
   "source": [
    "#see models initial weight \n",
    "model.layers[0].get_weights()"
   ]
  },
  {
   "cell_type": "code",
   "execution_count": 28,
   "metadata": {},
   "outputs": [
    {
     "name": "stdout",
     "output_type": "stream",
     "text": [
      "Epoch 1/100\n",
      "5/5 [==============================] - 0s 15ms/step - loss: 3.4565\n",
      "Epoch 2/100\n",
      "5/5 [==============================] - 0s 2ms/step - loss: 3.4449\n",
      "Epoch 3/100\n",
      "5/5 [==============================] - 0s 200us/step - loss: 3.4315\n",
      "Epoch 4/100\n",
      "5/5 [==============================] - 0s 0us/step - loss: 3.4173\n",
      "Epoch 5/100\n",
      "5/5 [==============================] - 0s 0us/step - loss: 3.4028\n",
      "Epoch 6/100\n",
      "5/5 [==============================] - 0s 200us/step - loss: 3.3879\n",
      "Epoch 7/100\n",
      "5/5 [==============================] - 0s 199us/step - loss: 3.3730\n",
      "Epoch 8/100\n",
      "5/5 [==============================] - 0s 252us/step - loss: 3.3579\n",
      "Epoch 9/100\n",
      "5/5 [==============================] - 0s 312us/step - loss: 3.3427\n",
      "Epoch 10/100\n",
      "5/5 [==============================] - 0s 199us/step - loss: 3.3275\n",
      "Epoch 11/100\n",
      "5/5 [==============================] - 0s 397us/step - loss: 3.3123\n",
      "Epoch 12/100\n",
      "5/5 [==============================] - 0s 200us/step - loss: 3.2971\n",
      "Epoch 13/100\n",
      "5/5 [==============================] - 0s 0us/step - loss: 3.2819\n",
      "Epoch 14/100\n",
      "5/5 [==============================] - 0s 533us/step - loss: 3.2667\n",
      "Epoch 15/100\n",
      "5/5 [==============================] - 0s 0us/step - loss: 3.2515\n",
      "Epoch 16/100\n",
      "5/5 [==============================] - 0s 0us/step - loss: 3.2363\n",
      "Epoch 17/100\n",
      "5/5 [==============================] - 0s 621us/step - loss: 3.2212\n",
      "Epoch 18/100\n",
      "5/5 [==============================] - 0s 631us/step - loss: 3.2061\n",
      "Epoch 19/100\n",
      "5/5 [==============================] - 0s 520us/step - loss: 3.1910\n",
      "Epoch 20/100\n",
      "5/5 [==============================] - 0s 399us/step - loss: 3.1760\n",
      "Epoch 21/100\n",
      "5/5 [==============================] - 0s 613us/step - loss: 3.1610\n",
      "Epoch 22/100\n",
      "5/5 [==============================] - 0s 400us/step - loss: 3.1460\n",
      "Epoch 23/100\n",
      "5/5 [==============================] - 0s 249us/step - loss: 3.1311\n",
      "Epoch 24/100\n",
      "5/5 [==============================] - 0s 200us/step - loss: 3.1162\n",
      "Epoch 25/100\n",
      "5/5 [==============================] - 0s 949us/step - loss: 3.1014\n",
      "Epoch 26/100\n",
      "5/5 [==============================] - 0s 550us/step - loss: 3.0866\n",
      "Epoch 27/100\n",
      "5/5 [==============================] - 0s 271us/step - loss: 3.0719\n",
      "Epoch 28/100\n",
      "5/5 [==============================] - 0s 200us/step - loss: 3.0572\n",
      "Epoch 29/100\n",
      "5/5 [==============================] - 0s 1ms/step - loss: 3.0426\n",
      "Epoch 30/100\n",
      "5/5 [==============================] - 0s 1ms/step - loss: 3.0280\n",
      "Epoch 31/100\n",
      "5/5 [==============================] - 0s 399us/step - loss: 3.0135\n",
      "Epoch 32/100\n",
      "5/5 [==============================] - 0s 814us/step - loss: 2.9990\n",
      "Epoch 33/100\n",
      "5/5 [==============================] - 0s 1ms/step - loss: 2.9846\n",
      "Epoch 34/100\n",
      "5/5 [==============================] - 0s 454us/step - loss: 2.9702\n",
      "Epoch 35/100\n",
      "5/5 [==============================] - 0s 1ms/step - loss: 2.9559\n",
      "Epoch 36/100\n",
      "5/5 [==============================] - 0s 630us/step - loss: 2.9416\n",
      "Epoch 37/100\n",
      "5/5 [==============================] - 0s 2ms/step - loss: 2.9274\n",
      "Epoch 38/100\n",
      "5/5 [==============================] - 0s 2ms/step - loss: 2.9132\n",
      "Epoch 39/100\n",
      "5/5 [==============================] - 0s 0us/step - loss: 2.8991\n",
      "Epoch 40/100\n",
      "5/5 [==============================] - 0s 0us/step - loss: 2.8851\n",
      "Epoch 41/100\n",
      "5/5 [==============================] - 0s 1ms/step - loss: 2.8711\n",
      "Epoch 42/100\n",
      "5/5 [==============================] - 0s 805us/step - loss: 2.8571\n",
      "Epoch 43/100\n",
      "5/5 [==============================] - 0s 0us/step - loss: 2.8432\n",
      "Epoch 44/100\n",
      "5/5 [==============================] - 0s 511us/step - loss: 2.8294\n",
      "Epoch 45/100\n",
      "5/5 [==============================] - 0s 200us/step - loss: 2.8156\n",
      "Epoch 46/100\n",
      "5/5 [==============================] - 0s 200us/step - loss: 2.8018\n",
      "Epoch 47/100\n",
      "5/5 [==============================] - 0s 1ms/step - loss: 2.7881\n",
      "Epoch 48/100\n",
      "5/5 [==============================] - 0s 606us/step - loss: 2.7745\n",
      "Epoch 49/100\n",
      "5/5 [==============================] - 0s 400us/step - loss: 2.7609\n",
      "Epoch 50/100\n",
      "5/5 [==============================] - 0s 199us/step - loss: 2.7474\n",
      "Epoch 51/100\n",
      "5/5 [==============================] - 0s 770us/step - loss: 2.7339\n",
      "Epoch 52/100\n",
      "5/5 [==============================] - 0s 199us/step - loss: 2.7205\n",
      "Epoch 53/100\n",
      "5/5 [==============================] - 0s 200us/step - loss: 2.7071\n",
      "Epoch 54/100\n",
      "5/5 [==============================] - 0s 0us/step - loss: 2.6938\n",
      "Epoch 55/100\n",
      "5/5 [==============================] - 0s 2ms/step - loss: 2.6805\n",
      "Epoch 56/100\n",
      "5/5 [==============================] - 0s 200us/step - loss: 2.6673\n",
      "Epoch 57/100\n",
      "5/5 [==============================] - 0s 199us/step - loss: 2.6541\n",
      "Epoch 58/100\n",
      "5/5 [==============================] - 0s 479us/step - loss: 2.6410\n",
      "Epoch 59/100\n",
      "5/5 [==============================] - 0s 403us/step - loss: 2.6280\n",
      "Epoch 60/100\n",
      "5/5 [==============================] - 0s 883us/step - loss: 2.6149\n",
      "Epoch 61/100\n",
      "5/5 [==============================] - 0s 199us/step - loss: 2.6020\n",
      "Epoch 62/100\n",
      "5/5 [==============================] - 0s 199us/step - loss: 2.5891\n",
      "Epoch 63/100\n",
      "5/5 [==============================] - 0s 0us/step - loss: 2.5762\n",
      "Epoch 64/100\n",
      "5/5 [==============================] - 0s 200us/step - loss: 2.5634\n",
      "Epoch 65/100\n",
      "5/5 [==============================] - 0s 0us/step - loss: 2.5507\n",
      "Epoch 66/100\n",
      "5/5 [==============================] - 0s 0us/step - loss: 2.5380\n",
      "Epoch 67/100\n",
      "5/5 [==============================] - 0s 0us/step - loss: 2.5253\n",
      "Epoch 68/100\n",
      "5/5 [==============================] - 0s 2ms/step - loss: 2.5127\n",
      "Epoch 69/100\n",
      "5/5 [==============================] - 0s 200us/step - loss: 2.5001\n",
      "Epoch 70/100\n",
      "5/5 [==============================] - 0s 0us/step - loss: 2.4876\n",
      "Epoch 71/100\n",
      "5/5 [==============================] - 0s 0us/step - loss: 2.4752\n",
      "Epoch 72/100\n",
      "5/5 [==============================] - 0s 0us/step - loss: 2.4628\n",
      "Epoch 73/100\n",
      "5/5 [==============================] - 0s 3ms/step - loss: 2.4504\n",
      "Epoch 74/100\n",
      "5/5 [==============================] - 0s 444us/step - loss: 2.4381\n",
      "Epoch 75/100\n",
      "5/5 [==============================] - 0s 335us/step - loss: 2.4259\n",
      "Epoch 76/100\n",
      "5/5 [==============================] - 0s 0us/step - loss: 2.4136\n",
      "Epoch 77/100\n",
      "5/5 [==============================] - 0s 229us/step - loss: 2.4015\n",
      "Epoch 78/100\n",
      "5/5 [==============================] - 0s 0us/step - loss: 2.3894\n",
      "Epoch 79/100\n",
      "5/5 [==============================] - 0s 199us/step - loss: 2.3773\n",
      "Epoch 80/100\n",
      "5/5 [==============================] - 0s 0us/step - loss: 2.3653\n",
      "Epoch 81/100\n",
      "5/5 [==============================] - 0s 0us/step - loss: 2.3533\n",
      "Epoch 82/100\n",
      "5/5 [==============================] - 0s 1ms/step - loss: 2.3414\n",
      "Epoch 83/100\n",
      "5/5 [==============================] - 0s 0us/step - loss: 2.3296\n",
      "Epoch 84/100\n",
      "5/5 [==============================] - 0s 200us/step - loss: 2.3177\n",
      "Epoch 85/100\n",
      "5/5 [==============================] - 0s 0us/step - loss: 2.3060\n",
      "Epoch 86/100\n",
      "5/5 [==============================] - 0s 0us/step - loss: 2.2942\n",
      "Epoch 87/100\n",
      "5/5 [==============================] - 0s 245us/step - loss: 2.2826\n",
      "Epoch 88/100\n",
      "5/5 [==============================] - 0s 234us/step - loss: 2.2709\n",
      "Epoch 89/100\n",
      "5/5 [==============================] - 0s 0us/step - loss: 2.2594\n",
      "Epoch 90/100\n",
      "5/5 [==============================] - 0s 199us/step - loss: 2.2478\n",
      "Epoch 91/100\n",
      "5/5 [==============================] - 0s 742us/step - loss: 2.2364\n",
      "Epoch 92/100\n",
      "5/5 [==============================] - 0s 325us/step - loss: 2.2249\n",
      "Epoch 93/100\n",
      "5/5 [==============================] - 0s 0us/step - loss: 2.2136\n",
      "Epoch 94/100\n",
      "5/5 [==============================] - 0s 0us/step - loss: 2.2022\n",
      "Epoch 95/100\n",
      "5/5 [==============================] - 0s 0us/step - loss: 2.1909\n",
      "Epoch 96/100\n",
      "5/5 [==============================] - 0s 2ms/step - loss: 2.1797\n",
      "Epoch 97/100\n",
      "5/5 [==============================] - 0s 0us/step - loss: 2.1684\n",
      "Epoch 98/100\n",
      "5/5 [==============================] - 0s 200us/step - loss: 2.1573\n",
      "Epoch 99/100\n",
      "5/5 [==============================] - 0s 0us/step - loss: 2.1462\n",
      "Epoch 100/100\n",
      "5/5 [==============================] - 0s 0us/step - loss: 2.1351\n"
     ]
    },
    {
     "data": {
      "text/plain": [
       "<keras.callbacks.callbacks.History at 0x242f0330dc8>"
      ]
     },
     "execution_count": 28,
     "metadata": {},
     "output_type": "execute_result"
    }
   ],
   "source": [
    "#train the model\n",
    "#back propagation is performed here \n",
    "model.fit(X,Y, epochs=100, verbose=1)"
   ]
  },
  {
   "cell_type": "code",
   "execution_count": 29,
   "metadata": {},
   "outputs": [
    {
     "data": {
      "text/plain": [
       "[array([[1.5375654]], dtype=float32), array([0.0956273], dtype=float32)]"
      ]
     },
     "execution_count": 29,
     "metadata": {},
     "output_type": "execute_result"
    }
   ],
   "source": [
    "#see the trained weight value \n",
    "model.layers[0].get_weights()"
   ]
  },
  {
   "cell_type": "code",
   "execution_count": 30,
   "metadata": {},
   "outputs": [
    {
     "data": {
      "text/plain": [
       "array([[9.321019]], dtype=float32)"
      ]
     },
     "execution_count": 30,
     "metadata": {},
     "output_type": "execute_result"
    }
   ],
   "source": [
    "#pridict y given some x values \n",
    "model.predict([6])"
   ]
  },
  {
   "cell_type": "code",
   "execution_count": null,
   "metadata": {},
   "outputs": [],
   "source": []
  },
  {
   "cell_type": "code",
   "execution_count": null,
   "metadata": {},
   "outputs": [],
   "source": []
  }
 ],
 "metadata": {
  "kernelspec": {
   "display_name": "Python 3",
   "language": "python",
   "name": "python3"
  },
  "language_info": {
   "codemirror_mode": {
    "name": "ipython",
    "version": 3
   },
   "file_extension": ".py",
   "mimetype": "text/x-python",
   "name": "python",
   "nbconvert_exporter": "python",
   "pygments_lexer": "ipython3",
   "version": "3.7.6"
  }
 },
 "nbformat": 4,
 "nbformat_minor": 2
}
